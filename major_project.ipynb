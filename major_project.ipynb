{
 "cells": [
  {
   "cell_type": "code",
   "execution_count": 1,
   "id": "0fde38d4-ae32-4a6a-9c8c-daf39c2a7445",
   "metadata": {},
   "outputs": [
    {
     "name": "stdout",
     "output_type": "stream",
     "text": [
      "[5, 4, 3, 2, 1]\n"
     ]
    }
   ],
   "source": [
    "# 1. How do you reverse a list in Python?\n",
    "my_list=[1,2,3,4,5]\n",
    "rev_list=my_list[::-1]\n",
    "print(rev_list)"
   ]
  },
  {
   "cell_type": "code",
   "execution_count": 8,
   "id": "a79e88ea-5d9a-4178-9b00-ffd5a643e039",
   "metadata": {},
   "outputs": [
    {
     "name": "stdin",
     "output_type": "stream",
     "text": [
      "Enter a string: malayalam\n"
     ]
    },
    {
     "name": "stdout",
     "output_type": "stream",
     "text": [
      "The given string is palindrome\n"
     ]
    }
   ],
   "source": [
    "# 2. How do you check if a string is a palindrome?\n",
    "str1=input(\"Enter a string:\")\n",
    "str2=str1[::-1]\n",
    "if str1==str2:\n",
    "    print(\"The given string is palindrome\")\n",
    "else:\n",
    "    print(\"The given string is not palindrome\")"
   ]
  },
  {
   "cell_type": "code",
   "execution_count": 11,
   "id": "f4962ab5-f5ca-4731-a9e4-436666c07021",
   "metadata": {},
   "outputs": [
    {
     "name": "stdin",
     "output_type": "stream",
     "text": [
      "Enter a number : 5\n"
     ]
    },
    {
     "name": "stdout",
     "output_type": "stream",
     "text": [
      "The factorial of the given number is  120\n"
     ]
    }
   ],
   "source": [
    "# 3. How do you find the factorial of a number?\n",
    "num=int(input(\"Enter a number :\"))\n",
    "fact=1\n",
    "for i in range(1,num+1):\n",
    "    fact=fact*i\n",
    "print(\"The factorial of the given number is \",fact)"
   ]
  },
  {
   "cell_type": "code",
   "execution_count": 17,
   "id": "92cdf710-c9b0-43d9-9222-fc189ff805a3",
   "metadata": {},
   "outputs": [
    {
     "name": "stdin",
     "output_type": "stream",
     "text": [
      "Enter a num: 4\n",
      "Enter a num: 9\n"
     ]
    },
    {
     "name": "stdout",
     "output_type": "stream",
     "text": [
      "a = 9\n",
      "b = 4\n"
     ]
    }
   ],
   "source": [
    "# 4. How do you swap two variables in Python?\n",
    "a = int(input(\"Enter a num:\"))\n",
    "b = int(input(\"Enter a num:\"))\n",
    "\n",
    "temp = a\n",
    "a = b\n",
    "b = temp\n",
    "\n",
    "print(\"a =\", a)   \n",
    "print(\"b =\", b)  \n"
   ]
  },
  {
   "cell_type": "code",
   "execution_count": 22,
   "id": "c3bc8e1e-6057-47b8-aaab-24b2fe26d94c",
   "metadata": {},
   "outputs": [
    {
     "name": "stdout",
     "output_type": "stream",
     "text": [
      "89\n"
     ]
    }
   ],
   "source": [
    "# 5. How do you find the maximum element in a list?\n",
    "my_list=[55,89,65,23,5,32,79]\n",
    "a=max(my_list)\n",
    "print(a)"
   ]
  },
  {
   "cell_type": "code",
   "execution_count": 26,
   "id": "2b4b0821-4f91-4457-8ae5-95b2fb8a4331",
   "metadata": {},
   "outputs": [
    {
     "name": "stdin",
     "output_type": "stream",
     "text": [
      " 11\n",
      " 22\n",
      " 33\n",
      " 44\n",
      " 55\n"
     ]
    },
    {
     "name": "stdout",
     "output_type": "stream",
     "text": [
      "The list is: [89, 89, 89, 89, 89]\n",
      "The sum is: 445\n"
     ]
    }
   ],
   "source": [
    "# 6. How do you find the sum of all elements in a list?\n",
    "my_list=[]\n",
    "for i in range(1,6):\n",
    "    ele=int(input())\n",
    "    my_list.append(a)\n",
    "print(\"The list is:\",my_list)\n",
    "sum=0\n",
    "for i in my_list:\n",
    "    sum=sum+i\n",
    "print(\"The sum is:\",sum)"
   ]
  },
  {
   "cell_type": "code",
   "execution_count": 27,
   "id": "ae7c1946-1f42-4334-8139-209f69aa938d",
   "metadata": {},
   "outputs": [
    {
     "name": "stdout",
     "output_type": "stream",
     "text": [
      "The list after removing the duplicates is: [11, 22, 33]\n"
     ]
    }
   ],
   "source": [
    "# 7. How do you remove duplicates from a list?\n",
    "my_list=[11,22,33,11,22,33]\n",
    "your_list=[]\n",
    "for i in my_list:\n",
    "    if i not in your_list:\n",
    "        your_list.append(i)\n",
    "print(\"The list after removing the duplicates is:\",your_list)\n"
   ]
  },
  {
   "cell_type": "code",
   "execution_count": 28,
   "id": "a79327d0-59c0-4e94-86f4-ac88f501971d",
   "metadata": {},
   "outputs": [
    {
     "name": "stdout",
     "output_type": "stream",
     "text": [
      "{'a': 1, 'b': 2, 'c': 3, 'd': 4}\n"
     ]
    }
   ],
   "source": [
    "# 8. How do you merge two dictionaries?\n",
    "dict1 = {'a': 1, 'b': 2}\n",
    "dict2 = {'c': 3, 'd': 4}\n",
    "dict1.update(dict2)\n",
    "print(dict1)"
   ]
  },
  {
   "cell_type": "code",
   "execution_count": 30,
   "id": "2522183a-b873-4429-b8db-5d80c206cd80",
   "metadata": {},
   "outputs": [
    {
     "name": "stdin",
     "output_type": "stream",
     "text": [
      "Enter a string: Study Comrade\n"
     ]
    },
    {
     "name": "stdout",
     "output_type": "stream",
     "text": [
      "The length of the string is: 13\n"
     ]
    }
   ],
   "source": [
    "# 9. How do you find the length of a string?\n",
    "str1=input(\"Enter a string:\")\n",
    "l=len(str1)\n",
    "print(\"The length of the string is:\",l)"
   ]
  },
  {
   "cell_type": "code",
   "execution_count": 31,
   "id": "839be1a9-b559-4f25-8d58-32a99f091d18",
   "metadata": {},
   "outputs": [
    {
     "name": "stdin",
     "output_type": "stream",
     "text": [
      "Enter a string: study comrade\n"
     ]
    },
    {
     "name": "stdout",
     "output_type": "stream",
     "text": [
      "STUDY COMRADE\n"
     ]
    }
   ],
   "source": [
    "# 10. How do you convert a string to uppercase?\n",
    "str1=input(\"Enter a string:\")\n",
    "print(str1.upper())"
   ]
  },
  {
   "cell_type": "code",
   "execution_count": 35,
   "id": "86591c34-3829-45e4-91a8-33230fa863c2",
   "metadata": {},
   "outputs": [
    {
     "name": "stdin",
     "output_type": "stream",
     "text": [
      "Enter the key to be searched: d\n"
     ]
    },
    {
     "name": "stdout",
     "output_type": "stream",
     "text": [
      "The given key exist in the dictionary\n"
     ]
    }
   ],
   "source": [
    "# 11. How do you check if a key exists in a dictionary?\n",
    "dict1 = {'a': 1, 'b': 2,'c': 3, 'd': 4}\n",
    "key_list=dict1.keys()\n",
    "key=input(\"Enter the key to be searched:\")\n",
    "if key in key_list:\n",
    "    print(\"The given key exist in the dictionary\")\n",
    "else:\n",
    "    print(\"The given key does not exist in the dictionary\")"
   ]
  },
  {
   "cell_type": "code",
   "execution_count": 42,
   "id": "f040a3c8-c3fa-43c1-aeda-93fbbc54e5d8",
   "metadata": {},
   "outputs": [
    {
     "name": "stdout",
     "output_type": "stream",
     "text": [
      "[('banana', 1), ('blueberry', 2), ('cherry', 2), ('apple', 3)]\n"
     ]
    }
   ],
   "source": [
    "# 12. How do you sort a list of tuples based on the second element?\n",
    "data = [('apple', 3), ('banana', 1), ('cherry', 2), ('blueberry', 2)]\n",
    "sorted_data = sorted(data, key=lambda x: (x[1], x[0]))\n",
    "print(sorted_data)"
   ]
  },
  {
   "cell_type": "code",
   "execution_count": 44,
   "id": "0eddfe59-9f67-4b51-9045-30ed3503dfec",
   "metadata": {},
   "outputs": [
    {
     "name": "stdout",
     "output_type": "stream",
     "text": [
      "The intersection elements are:\n",
      "4\n",
      "5\n"
     ]
    }
   ],
   "source": [
    "# 14. How do you find the intersection of two sets?\n",
    "list1=[1,2,3,4,5]\n",
    "list2=[4,5,6,7,8]\n",
    "print(\"The intersection elements are:\")\n",
    "for i in list1:\n",
    "    if i in list2:\n",
    "        print(i)"
   ]
  },
  {
   "cell_type": "code",
   "execution_count": 45,
   "id": "b520327e-8286-4532-ab3b-6be56c1aa11c",
   "metadata": {},
   "outputs": [
    {
     "name": "stdout",
     "output_type": "stream",
     "text": [
      "[0, 2, 4, 6, 8, 10, 12, 14, 16, 18, 20]\n"
     ]
    }
   ],
   "source": [
    "# 15. How do you create a list of even numbers from 0 to 20?\n",
    "even_list=[]\n",
    "for i in range(0,21):\n",
    "    if i%2==0:\n",
    "        even_list.append(i)\n",
    "print(even_list)"
   ]
  },
  {
   "cell_type": "code",
   "execution_count": 2,
   "id": "049ae75e-05ef-4a6f-aab5-d486e2506d3a",
   "metadata": {},
   "outputs": [
    {
     "name": "stdout",
     "output_type": "stream",
     "text": [
      "[1, 3, 4, 5]\n"
     ]
    }
   ],
   "source": [
    "# 16. How do you remove all occurrences of a value from a list?\n",
    "def remove_all_occurrences(lst, value):\n",
    "    while value in lst:\n",
    "        lst.remove(value)\n",
    "    return lst\n",
    "my_list = [1, 2, 3, 2, 4, 2, 5]\n",
    "remove_all_occurrences(my_list, 2)\n",
    "print(my_list)  "
   ]
  },
  {
   "cell_type": "code",
   "execution_count": 11,
   "id": "38544420-b88a-4136-be4b-e8dbd83be09b",
   "metadata": {},
   "outputs": [
    {
     "name": "stdin",
     "output_type": "stream",
     "text": [
      "Enter the element to count no. of occurances: 2\n"
     ]
    },
    {
     "name": "stdout",
     "output_type": "stream",
     "text": [
      "3\n"
     ]
    }
   ],
   "source": [
    "# 17. How do you count the number of occurrences of each element in a list?\n",
    "my_list = [1, 2, 3, 2, 4, 2, 5]\n",
    "key=int(input(\"Enter the element to count no. of occurances:\"))\n",
    "c=0\n",
    "for i in my_list:\n",
    "    if i==key:\n",
    "        count+=1\n",
    "print(count)"
   ]
  },
  {
   "cell_type": "code",
   "execution_count": 28,
   "id": "88e6c49e-9123-49d5-ab9a-f560b00c2b48",
   "metadata": {},
   "outputs": [
    {
     "name": "stdout",
     "output_type": "stream",
     "text": [
      "[4]\n"
     ]
    }
   ],
   "source": [
    "# 18. How do you find the common elements in three lists?\n",
    "list1=[1,2,3,4,6]\n",
    "list2=[4,5,6,7,8]\n",
    "list3=[4,5,9,8,10]\n",
    "common_elements = set(list1) & set(list2) & set(list3)\n",
    "print(list(common_elements)) "
   ]
  },
  {
   "cell_type": "code",
   "execution_count": 31,
   "id": "a3aa0821-674c-4dd4-aaa9-e8c142fd0f28",
   "metadata": {},
   "outputs": [
    {
     "name": "stdout",
     "output_type": "stream",
     "text": [
      "Employee name: Vinay\n",
      "Employee age: 30\n",
      "Employee id: 1086434\n"
     ]
    }
   ],
   "source": [
    "#19. How do you implement inheritance in Python? Provide an example with a base class and a derived class.\n",
    "class Person():\n",
    "    def __init__(self,name,age):\n",
    "        self.name=name\n",
    "        self.age=age\n",
    "class Employee(Person):                                                                            \n",
    "    def __init__(self,name,age,Emp_id):\n",
    "        super().__init__(name,age)\n",
    "        self.Emp_id=Emp_id\n",
    "\n",
    "employee=Employee(\"Vinay\",30,1086434)\n",
    "print(\"Employee name:\",employee.name)\n",
    "print(\"Employee age:\",employee.age)\n",
    "print(\"Employee id:\",employee.Emp_id)"
   ]
  },
  {
   "cell_type": "code",
   "execution_count": 32,
   "id": "62b7ff21-1d64-466b-8159-ea83f3e9d16c",
   "metadata": {},
   "outputs": [
    {
     "name": "stdout",
     "output_type": "stream",
     "text": [
      "[1, 2, 3, 4, 5, 6, 7, 8, 9]\n"
     ]
    }
   ],
   "source": [
    "#20. How do you flatten a list of lists?\n",
    "list_of_lists = [[1, 2, 3], [4, 5, 6], [7], [8, 9]]\n",
    "new_list=[]\n",
    "for i in list_of_lists:\n",
    "    new_list=new_list+i\n",
    "print(new_list)"
   ]
  },
  {
   "cell_type": "code",
   "execution_count": 8,
   "id": "2235d133-9a54-473d-b85d-f8dfe2e56f79",
   "metadata": {},
   "outputs": [
    {
     "name": "stdout",
     "output_type": "stream",
     "text": [
      "The first non-repeating character is: y\n"
     ]
    }
   ],
   "source": [
    "# 21. How do you find the first non-repeating character in a string?\n",
    "def first_non_repeating_char(s):\n",
    "    \n",
    "    char_count = {}\n",
    "\n",
    "   \n",
    "    for char in s:\n",
    "        if char in char_count:\n",
    "            char_count[char] += 1\n",
    "        else:\n",
    "            char_count[char] = 1\n",
    "\n",
    "    \n",
    "    for char in s:\n",
    "        if char_count[char] == 1:\n",
    "            return char\n",
    "\n",
    "    return None  \n",
    "\n",
    "string = \"malayalam\"\n",
    "result = first_non_repeating_char(string)\n",
    "print(f\"The first non-repeating character is: {result}\")\n",
    "\n"
   ]
  },
  {
   "cell_type": "code",
   "execution_count": 9,
   "id": "c5e2c2ad-0556-419f-8e40-5195aef99371",
   "metadata": {},
   "outputs": [
    {
     "name": "stdout",
     "output_type": "stream",
     "text": [
      "Car: 2020 Toyota Corolla\n"
     ]
    }
   ],
   "source": [
    "#  22. How do you create a class in Python and instantiate an object from it?\n",
    "class Car:\n",
    "    def __init__(self, make, model, year):\n",
    "        self.make = make\n",
    "        self.model = model\n",
    "        self.year = year\n",
    "\n",
    "    def display_info(self):\n",
    "        print(f\"Car: {self.year} {self.make} {self.model}\")\n",
    "\n",
    "my_car = Car(\"Toyota\", \"Corolla\", 2020)\n",
    "\n",
    "my_car.display_info()"
   ]
  },
  {
   "cell_type": "code",
   "execution_count": 8,
   "id": "91084d06-fc72-46b3-8513-0dd8e850b35e",
   "metadata": {},
   "outputs": [
    {
     "name": "stdout",
     "output_type": "stream",
     "text": [
      "12\n"
     ]
    }
   ],
   "source": [
    "# 23. How do you find the GCD of two numbers?\n",
    "import math\n",
    "\n",
    "num1 = 60\n",
    "num2 = 48\n",
    "\n",
    "gcd = math.gcd(num1, num2)\n",
    "\n",
    "print(gcd)\n"
   ]
  },
  {
   "cell_type": "code",
   "execution_count": 3,
   "id": "aeaab2da-b726-4909-8dfd-98bed5256d79",
   "metadata": {},
   "outputs": [
    {
     "name": "stdin",
     "output_type": "stream",
     "text": [
      "Enter a number: 5\n"
     ]
    },
    {
     "name": "stdout",
     "output_type": "stream",
     "text": [
      "0\n",
      "1\n",
      "1\n",
      "2\n",
      "3\n",
      "5\n",
      "8\n",
      "13\n"
     ]
    }
   ],
   "source": [
    "# 24. How do you generate Fibonacci numbers up to a given number?\n",
    "num=int(input(\"Enter a number:\"))\n",
    "x=0\n",
    "y=1\n",
    "i=0\n",
    "print(x)\n",
    "print(y)\n",
    "while i<=num:\n",
    "    z=x+y\n",
    "    x=y\n",
    "    y=z\n",
    "    i+=1\n",
    "    print(z)"
   ]
  },
  {
   "cell_type": "code",
   "execution_count": 10,
   "id": "6cba97f9-e958-4a67-ae85-e02111a9f5b8",
   "metadata": {},
   "outputs": [
    {
     "name": "stdout",
     "output_type": "stream",
     "text": [
      "{'a': 1, 'b': 2, 'c': 3}\n"
     ]
    }
   ],
   "source": [
    "# 25. How do you convert a list of tuples into a dictionary?\n",
    "\n",
    "list_of_tuples = [('a', 1), ('b', 2), ('c', 3)]\n",
    "\n",
    "dictionary = dict(list_of_tuples)\n",
    "\n",
    "print(dictionary)"
   ]
  },
  {
   "cell_type": "code",
   "execution_count": 11,
   "id": "2b2fa3ba-4156-4634-b73e-02e4b509095d",
   "metadata": {},
   "outputs": [
    {
     "name": "stdout",
     "output_type": "stream",
     "text": [
      "[1 2 3 4 5]\n",
      "<class 'numpy.ndarray'>\n"
     ]
    }
   ],
   "source": [
    "# 1. How do you create a NumPy array from a Python list?\n",
    "import numpy as np\n",
    "arr1=np.array([1,2,3,4,5])\n",
    "print(arr1)\n",
    "print(type(arr1))"
   ]
  },
  {
   "cell_type": "code",
   "execution_count": 13,
   "id": "9eddeac3-978b-4abf-9fc1-45602cfe6339",
   "metadata": {},
   "outputs": [
    {
     "name": "stdout",
     "output_type": "stream",
     "text": [
      "[0. 0. 0. 0. 0.]\n",
      "<class 'numpy.ndarray'>\n"
     ]
    }
   ],
   "source": [
    "#2. How do you create a NumPy array filled with zeros?\n",
    "arr1=np.zeros(5)\n",
    "print(arr1)\n",
    "print(type(arr1))"
   ]
  },
  {
   "cell_type": "code",
   "execution_count": 14,
   "id": "de6f9c4c-ab02-4dec-ac80-03a9d307377e",
   "metadata": {},
   "outputs": [
    {
     "name": "stdout",
     "output_type": "stream",
     "text": [
      "[1. 1. 1. 1. 1.]\n"
     ]
    }
   ],
   "source": [
    "# 3. How do you create a NumPy array filled with ones?\n",
    "arr1 = np.ones(5)\n",
    "print(arr1)"
   ]
  },
  {
   "cell_type": "code",
   "execution_count": 15,
   "id": "5a557767-5cef-4adb-a71b-7588d8d31ea9",
   "metadata": {},
   "outputs": [
    {
     "name": "stdout",
     "output_type": "stream",
     "text": [
      "[0 1 2 3 4 5 6 7 8 9]\n"
     ]
    }
   ],
   "source": [
    "#4. How do you create a NumPy array with a range of values?\n",
    "arr1 = np.arange(10)\n",
    "print(arr1)"
   ]
  },
  {
   "cell_type": "code",
   "execution_count": 17,
   "id": "3254148e-4b19-420b-94da-e94460ea56b1",
   "metadata": {},
   "outputs": [
    {
     "name": "stdout",
     "output_type": "stream",
     "text": [
      "[[1. 0. 0.]\n",
      " [0. 1. 0.]\n",
      " [0. 0. 1.]]\n"
     ]
    }
   ],
   "source": [
    "#5. How do you create an identity matrix using NumPy?\n",
    "id_array=np.identity(3)\n",
    "print(id_array)"
   ]
  },
  {
   "cell_type": "code",
   "execution_count": 22,
   "id": "ee0ab6ca-57e6-4474-a4da-b47905fd0b27",
   "metadata": {},
   "outputs": [
    {
     "name": "stdout",
     "output_type": "stream",
     "text": [
      "(5,)\n"
     ]
    }
   ],
   "source": [
    "# 6. How do you find the shape of a NumPy array?\n",
    "import numpy as np\n",
    "arr1=np.array([1,2,3,4,5])\n",
    "z=arr1.shape\n",
    "print(z)"
   ]
  },
  {
   "cell_type": "code",
   "execution_count": 24,
   "id": "2681c0ff-4ad4-4ea4-a249-675b4579120d",
   "metadata": {},
   "outputs": [
    {
     "name": "stdout",
     "output_type": "stream",
     "text": [
      "[[1 2]\n",
      " [3 4]\n",
      " [5 6]]\n"
     ]
    }
   ],
   "source": [
    "#7. How do you reshape a NumPy array?\n",
    "arr1=np.array([1,2,3,4,5,6])\n",
    "arr2=arr1.reshape(3,2)\n",
    "print(arr2)"
   ]
  },
  {
   "cell_type": "code",
   "execution_count": 26,
   "id": "f8cb1b7c-01aa-412d-b525-0053cef39f64",
   "metadata": {},
   "outputs": [
    {
     "name": "stdout",
     "output_type": "stream",
     "text": [
      "[6 5 4 3 2 1]\n"
     ]
    }
   ],
   "source": [
    "# 8. How do you reverse a NumPy array?\n",
    "arr1=np.array([1,2,3,4,5,6])\n",
    "print(arr1[::-1])"
   ]
  },
  {
   "cell_type": "code",
   "execution_count": 28,
   "id": "c2c4443d-4b29-45f5-9c9c-08a2e9455479",
   "metadata": {},
   "outputs": [
    {
     "name": "stdout",
     "output_type": "stream",
     "text": [
      "[1 2 3 4 5 6]\n"
     ]
    }
   ],
   "source": [
    "# 9. How do you concatenate two NumPy arrays?\n",
    "array1 = np.array([1, 2, 3])\n",
    "array2 = np.array([4, 5, 6])\n",
    "result = np.concatenate((array1, array2))\n",
    "print(result)"
   ]
  },
  {
   "cell_type": "code",
   "execution_count": 30,
   "id": "58ffe26b-61c3-40d8-8bf6-ecc3c575d8ab",
   "metadata": {},
   "outputs": [
    {
     "name": "stdout",
     "output_type": "stream",
     "text": [
      "80\n"
     ]
    }
   ],
   "source": [
    "# 10. How do you find the maximum value in a NumPy array?\n",
    "arr1=np.array([10,20,70,80,50])\n",
    "print(arr1.max())"
   ]
  },
  {
   "cell_type": "code",
   "execution_count": 31,
   "id": "aa5993e4-6138-45c8-b381-f94323d7647b",
   "metadata": {},
   "outputs": [
    {
     "name": "stdout",
     "output_type": "stream",
     "text": [
      "10\n"
     ]
    }
   ],
   "source": [
    "#11. How do you find the minimum value in a NumPy array?\n",
    "arr1=np.array([10,20,70,80,50])\n",
    "print(arr1.min())"
   ]
  },
  {
   "cell_type": "code",
   "execution_count": 32,
   "id": "1132e332-f4a1-4134-8cb1-51df39e53752",
   "metadata": {},
   "outputs": [
    {
     "name": "stdout",
     "output_type": "stream",
     "text": [
      "13.2\n"
     ]
    }
   ],
   "source": [
    "#12. How do you find the mean of a NumPy array?\n",
    "arr1=np.array([11,12,10,16,17])\n",
    "print(arr1.mean())"
   ]
  },
  {
   "cell_type": "code",
   "execution_count": 34,
   "id": "53d77c78-d344-4cfb-9a2d-bfd3ed6857eb",
   "metadata": {},
   "outputs": [
    {
     "name": "stdout",
     "output_type": "stream",
     "text": [
      "14.142135623730951\n"
     ]
    }
   ],
   "source": [
    "# 13. How do you find the standard deviation of a NumPy array\n",
    "arr1=np.array([10,20,30,40,50])\n",
    "print(arr1.std())"
   ]
  },
  {
   "cell_type": "code",
   "execution_count": 3,
   "id": "14ac0696-7c5c-4b77-8f27-c8a4b8a852bf",
   "metadata": {},
   "outputs": [
    {
     "name": "stdout",
     "output_type": "stream",
     "text": [
      "30\n"
     ]
    }
   ],
   "source": [
    "# 14. How do you find the sum of all elements in a NumPy array?\n",
    "import numpy as np\n",
    "arr1=np.array([1,2,3,9,8,7])\n",
    "sum=0\n",
    "for i in arr1:\n",
    "    sum=sum+i\n",
    "print(sum)"
   ]
  },
  {
   "cell_type": "code",
   "execution_count": 7,
   "id": "3f6080ee-b8a5-42eb-8713-0106403646d1",
   "metadata": {},
   "outputs": [
    {
     "name": "stdout",
     "output_type": "stream",
     "text": [
      "[1 2 3 4 5]\n",
      "[[ 1  2  3  4  5]\n",
      " [ 6  7  8  9 10]]\n",
      "[[[ 1  2  3]\n",
      "  [ 4  5  6]]\n",
      "\n",
      " [[ 7  8  9]\n",
      "  [10 11 12]]\n",
      "\n",
      " [[13 14 15]\n",
      "  [16 17 18]]]\n"
     ]
    }
   ],
   "source": [
    "#15. Create 1D, 2D and 3D arrays in NumPy ?\n",
    "arr1=np.array([1,2,3,4,5])\n",
    "arr2=np.array([[1,2,3,4,5],[6,7,8,9,10]])\n",
    "arr3=np.array(([[[1, 2, 3], [4, 5, 6]], \n",
    "                [[7, 8, 9], [10, 11, 12]], \n",
    "                [[13, 14, 15], [16, 17, 18]]]))\n",
    "print(arr1)\n",
    "print(arr2)\n",
    "print(arr3)"
   ]
  },
  {
   "cell_type": "code",
   "execution_count": 9,
   "id": "88efbaa9-9efa-490d-8b77-2075ee6b6d93",
   "metadata": {},
   "outputs": [
    {
     "name": "stdout",
     "output_type": "stream",
     "text": [
      "[ 3  6  9 12 15]\n"
     ]
    }
   ],
   "source": [
    "#16. How do you perform element-wise addition of two NumPy arrays?\n",
    "arr1=np.array([1,2,3,4,5])\n",
    "arr2=np.array([2,4,6,8,10])\n",
    "arr3=np.add(arr1,arr2)\n",
    "print(arr3)"
   ]
  },
  {
   "cell_type": "code",
   "execution_count": 12,
   "id": "52ce0ddd-89dc-442b-85cf-05b6fba7f41b",
   "metadata": {},
   "outputs": [
    {
     "name": "stdout",
     "output_type": "stream",
     "text": [
      "[ 2  8 18 32 50]\n"
     ]
    }
   ],
   "source": [
    "# 17. How do you perform element-wise multiplication of two NumPy arrays?\n",
    "arr1=np.array([1,2,3,4,5])\n",
    "arr2=np.array([2,4,6,8,10])\n",
    "arr3=np.multiply(arr1,arr2)\n",
    "print(arr3)"
   ]
  },
  {
   "cell_type": "code",
   "execution_count": 14,
   "id": "c6802dc4-b6b0-4a2d-8b28-5b2af02ea5b5",
   "metadata": {},
   "outputs": [
    {
     "name": "stdout",
     "output_type": "stream",
     "text": [
      "Result :\n",
      "[[19 22]\n",
      " [43 50]]\n"
     ]
    }
   ],
   "source": [
    "#18. How do you perform matrix multiplication with NumPy arrays?\n",
    "import numpy as np\n",
    "\n",
    "A = np.array([[1, 2], [3, 4]])\n",
    "B = np.array([[5, 6], [7, 8]])\n",
    "\n",
    "result = np.matmul(A, B)\n",
    "print(\"Result :\")\n",
    "print(result)"
   ]
  },
  {
   "cell_type": "code",
   "execution_count": 15,
   "id": "6780ea56-0672-4346-9a78-2117d99600ce",
   "metadata": {},
   "outputs": [
    {
     "name": "stdout",
     "output_type": "stream",
     "text": [
      "[[1 3]\n",
      " [2 4]]\n"
     ]
    }
   ],
   "source": [
    "# 19. How do you transpose a NumPy array?\n",
    "A = np.array([[1, 2], [3, 4]])\n",
    "print(A.transpose())"
   ]
  },
  {
   "cell_type": "code",
   "execution_count": 16,
   "id": "afe2c503-1477-4678-88a3-da5b1374a8b2",
   "metadata": {},
   "outputs": [
    {
     "name": "stdout",
     "output_type": "stream",
     "text": [
      "Inverse of the matrix A:\n",
      "[[-2.   1. ]\n",
      " [ 1.5 -0.5]]\n"
     ]
    }
   ],
   "source": [
    "# 20. How do you compute the inverse of a matrix using NumPy?\n",
    "import numpy as np\n",
    "\n",
    "A = np.array([[1, 2], [3, 4]])\n",
    "\n",
    "A_inv = np.linalg.inv(A)\n",
    "\n",
    "print(\"Inverse of the matrix A:\")\n",
    "print(A_inv)\n"
   ]
  },
  {
   "cell_type": "code",
   "execution_count": 21,
   "id": "1fe35f4d-af74-465d-a29f-184ed0672f44",
   "metadata": {},
   "outputs": [
    {
     "name": "stdout",
     "output_type": "stream",
     "text": [
      "[1 4 5 8 9]\n"
     ]
    }
   ],
   "source": [
    "# 21. How do you sort a NumPy array?\n",
    "arr1=np.array([8,5,9,4,1])\n",
    "print(np.sort(arr1))"
   ]
  },
  {
   "cell_type": "code",
   "execution_count": 25,
   "id": "0247bd52-6972-4018-8d1d-d26b13a07b03",
   "metadata": {},
   "outputs": [
    {
     "name": "stdout",
     "output_type": "stream",
     "text": [
      "96\n"
     ]
    }
   ],
   "source": [
    "# 22. How do you generate random numbers using NumPy?\n",
    "random_int = np.random.randint(0, 100)\n",
    "print(random_int)"
   ]
  },
  {
   "cell_type": "code",
   "execution_count": 43,
   "id": "4202af76-db55-4fb9-adbc-20b5996573d2",
   "metadata": {},
   "outputs": [
    {
     "data": {
      "text/html": [
       "<div>\n",
       "<style scoped>\n",
       "    .dataframe tbody tr th:only-of-type {\n",
       "        vertical-align: middle;\n",
       "    }\n",
       "\n",
       "    .dataframe tbody tr th {\n",
       "        vertical-align: top;\n",
       "    }\n",
       "\n",
       "    .dataframe thead th {\n",
       "        text-align: right;\n",
       "    }\n",
       "</style>\n",
       "<table border=\"1\" class=\"dataframe\">\n",
       "  <thead>\n",
       "    <tr style=\"text-align: right;\">\n",
       "      <th></th>\n",
       "      <th>filmtv_id</th>\n",
       "      <th>title</th>\n",
       "      <th>year</th>\n",
       "      <th>genre</th>\n",
       "      <th>duration</th>\n",
       "      <th>country</th>\n",
       "      <th>directors</th>\n",
       "      <th>actors</th>\n",
       "      <th>avg_vote</th>\n",
       "      <th>critics_vote</th>\n",
       "      <th>public_vote</th>\n",
       "      <th>total_votes</th>\n",
       "      <th>description</th>\n",
       "      <th>notes</th>\n",
       "      <th>humor</th>\n",
       "      <th>rhythm</th>\n",
       "      <th>effort</th>\n",
       "      <th>tension</th>\n",
       "      <th>erotism</th>\n",
       "    </tr>\n",
       "  </thead>\n",
       "  <tbody>\n",
       "    <tr>\n",
       "      <th>0</th>\n",
       "      <td>2</td>\n",
       "      <td>Bugs Bunny's Third Movie: 1001 Rabbit Tales</td>\n",
       "      <td>1982</td>\n",
       "      <td>Animation</td>\n",
       "      <td>76</td>\n",
       "      <td>United States</td>\n",
       "      <td>David Detiege, Art Davis, Bill Perez</td>\n",
       "      <td>NaN</td>\n",
       "      <td>7.7</td>\n",
       "      <td>8.00</td>\n",
       "      <td>7.0</td>\n",
       "      <td>22</td>\n",
       "      <td>With two protruding front teeth, a slightly sl...</td>\n",
       "      <td>These are many small independent stories, whic...</td>\n",
       "      <td>3</td>\n",
       "      <td>3</td>\n",
       "      <td>0</td>\n",
       "      <td>0</td>\n",
       "      <td>0</td>\n",
       "    </tr>\n",
       "    <tr>\n",
       "      <th>1</th>\n",
       "      <td>3</td>\n",
       "      <td>18 anni tra una settimana</td>\n",
       "      <td>1991</td>\n",
       "      <td>Drama</td>\n",
       "      <td>98</td>\n",
       "      <td>Italy</td>\n",
       "      <td>Luigi Perelli</td>\n",
       "      <td>Kim Rossi Stuart, Simona Cavallari, Ennio Fant...</td>\n",
       "      <td>6.5</td>\n",
       "      <td>6.00</td>\n",
       "      <td>7.0</td>\n",
       "      <td>4</td>\n",
       "      <td>Samantha, not yet eighteen, leaves the comfort...</td>\n",
       "      <td>Luigi Perelli, the director of the \"Piovra\", o...</td>\n",
       "      <td>0</td>\n",
       "      <td>2</td>\n",
       "      <td>0</td>\n",
       "      <td>2</td>\n",
       "      <td>0</td>\n",
       "    </tr>\n",
       "    <tr>\n",
       "      <th>2</th>\n",
       "      <td>17</td>\n",
       "      <td>Ride a Wild Pony</td>\n",
       "      <td>1976</td>\n",
       "      <td>Romantic</td>\n",
       "      <td>91</td>\n",
       "      <td>United States</td>\n",
       "      <td>Don Chaffey</td>\n",
       "      <td>Michael Craig, John Meillon, Eva Griffith, Gra...</td>\n",
       "      <td>5.7</td>\n",
       "      <td>6.00</td>\n",
       "      <td>5.0</td>\n",
       "      <td>10</td>\n",
       "      <td>In the Australia of the pioneers, a boy and a ...</td>\n",
       "      <td>\"Ecological\" story with a happy ending, not wi...</td>\n",
       "      <td>1</td>\n",
       "      <td>2</td>\n",
       "      <td>1</td>\n",
       "      <td>0</td>\n",
       "      <td>0</td>\n",
       "    </tr>\n",
       "    <tr>\n",
       "      <th>3</th>\n",
       "      <td>18</td>\n",
       "      <td>Diner</td>\n",
       "      <td>1982</td>\n",
       "      <td>Comedy</td>\n",
       "      <td>95</td>\n",
       "      <td>United States</td>\n",
       "      <td>Barry Levinson</td>\n",
       "      <td>Mickey Rourke, Steve Guttenberg, Ellen Barkin,...</td>\n",
       "      <td>7.0</td>\n",
       "      <td>8.00</td>\n",
       "      <td>6.0</td>\n",
       "      <td>18</td>\n",
       "      <td>Five boys from Baltimore have a habit of meeti...</td>\n",
       "      <td>A cast of will be famous for Levinson's direct...</td>\n",
       "      <td>2</td>\n",
       "      <td>2</td>\n",
       "      <td>0</td>\n",
       "      <td>1</td>\n",
       "      <td>2</td>\n",
       "    </tr>\n",
       "    <tr>\n",
       "      <th>4</th>\n",
       "      <td>20</td>\n",
       "      <td>A che servono questi quattrini?</td>\n",
       "      <td>1942</td>\n",
       "      <td>Comedy</td>\n",
       "      <td>85</td>\n",
       "      <td>Italy</td>\n",
       "      <td>Esodo Pratelli</td>\n",
       "      <td>Eduardo De Filippo, Peppino De Filippo, Clelia...</td>\n",
       "      <td>5.9</td>\n",
       "      <td>5.33</td>\n",
       "      <td>7.0</td>\n",
       "      <td>15</td>\n",
       "      <td>With a stratagem, the penniless and somewhat p...</td>\n",
       "      <td>Taken from the play by Armando Curcio that the...</td>\n",
       "      <td>3</td>\n",
       "      <td>1</td>\n",
       "      <td>1</td>\n",
       "      <td>0</td>\n",
       "      <td>0</td>\n",
       "    </tr>\n",
       "    <tr>\n",
       "      <th>...</th>\n",
       "      <td>...</td>\n",
       "      <td>...</td>\n",
       "      <td>...</td>\n",
       "      <td>...</td>\n",
       "      <td>...</td>\n",
       "      <td>...</td>\n",
       "      <td>...</td>\n",
       "      <td>...</td>\n",
       "      <td>...</td>\n",
       "      <td>...</td>\n",
       "      <td>...</td>\n",
       "      <td>...</td>\n",
       "      <td>...</td>\n",
       "      <td>...</td>\n",
       "      <td>...</td>\n",
       "      <td>...</td>\n",
       "      <td>...</td>\n",
       "      <td>...</td>\n",
       "      <td>...</td>\n",
       "    </tr>\n",
       "    <tr>\n",
       "      <th>41394</th>\n",
       "      <td>232817</td>\n",
       "      <td>Gold Digger Killer</td>\n",
       "      <td>2021</td>\n",
       "      <td>Thriller</td>\n",
       "      <td>87</td>\n",
       "      <td>Canada, United States</td>\n",
       "      <td>Robin Hays</td>\n",
       "      <td>Julie Benz, Roan Curtis, Georgia Bradner, Eli ...</td>\n",
       "      <td>4.0</td>\n",
       "      <td>NaN</td>\n",
       "      <td>4.0</td>\n",
       "      <td>3</td>\n",
       "      <td>Celeste is an attractive waitress in the forti...</td>\n",
       "      <td>Freely taken from a true story.</td>\n",
       "      <td>0</td>\n",
       "      <td>0</td>\n",
       "      <td>0</td>\n",
       "      <td>0</td>\n",
       "      <td>0</td>\n",
       "    </tr>\n",
       "    <tr>\n",
       "      <th>41395</th>\n",
       "      <td>232893</td>\n",
       "      <td>Addio al nubilato 2</td>\n",
       "      <td>2023</td>\n",
       "      <td>Comedy</td>\n",
       "      <td>90</td>\n",
       "      <td>Italy</td>\n",
       "      <td>Francesco Apolloni</td>\n",
       "      <td>Laura Chiatti, Chiara Francini, Antonia Liskov...</td>\n",
       "      <td>2.7</td>\n",
       "      <td>NaN</td>\n",
       "      <td>3.0</td>\n",
       "      <td>3</td>\n",
       "      <td>When Eleonora is downloaded to the altar, her ...</td>\n",
       "      <td>Bachelorette fare sequel (2021).</td>\n",
       "      <td>0</td>\n",
       "      <td>0</td>\n",
       "      <td>0</td>\n",
       "      <td>0</td>\n",
       "      <td>0</td>\n",
       "    </tr>\n",
       "    <tr>\n",
       "      <th>41396</th>\n",
       "      <td>232915</td>\n",
       "      <td>Konferensen</td>\n",
       "      <td>2023</td>\n",
       "      <td>Horror</td>\n",
       "      <td>100</td>\n",
       "      <td>Sweden</td>\n",
       "      <td>Patrik Eklund</td>\n",
       "      <td>Katia Winter, Eva Melander, Lola Zackow, Adam ...</td>\n",
       "      <td>6.0</td>\n",
       "      <td>NaN</td>\n",
       "      <td>6.0</td>\n",
       "      <td>6</td>\n",
       "      <td>A team building conference organized for a gro...</td>\n",
       "      <td>NaN</td>\n",
       "      <td>0</td>\n",
       "      <td>0</td>\n",
       "      <td>0</td>\n",
       "      <td>0</td>\n",
       "      <td>0</td>\n",
       "    </tr>\n",
       "    <tr>\n",
       "      <th>41397</th>\n",
       "      <td>232919</td>\n",
       "      <td>Ballelina</td>\n",
       "      <td>2023</td>\n",
       "      <td>Thriller</td>\n",
       "      <td>92</td>\n",
       "      <td>South Korea</td>\n",
       "      <td>Chung-Hyun Lee</td>\n",
       "      <td>Jeon Jong-seo, Park Yu-rim, Ji-hun Kim</td>\n",
       "      <td>5.8</td>\n",
       "      <td>NaN</td>\n",
       "      <td>6.0</td>\n",
       "      <td>5</td>\n",
       "      <td>Once Ok-Ju worked as a bodyguard and was one o...</td>\n",
       "      <td>NaN</td>\n",
       "      <td>0</td>\n",
       "      <td>0</td>\n",
       "      <td>0</td>\n",
       "      <td>0</td>\n",
       "      <td>0</td>\n",
       "    </tr>\n",
       "    <tr>\n",
       "      <th>41398</th>\n",
       "      <td>232920</td>\n",
       "      <td>Invitación a un Asesinato</td>\n",
       "      <td>2023</td>\n",
       "      <td>Thriller</td>\n",
       "      <td>92</td>\n",
       "      <td>Mexico</td>\n",
       "      <td>J.M Cravioto</td>\n",
       "      <td>Maribel Verdú, Stephanie Cayo, Manolo Cardona,...</td>\n",
       "      <td>6.0</td>\n",
       "      <td>NaN</td>\n",
       "      <td>6.0</td>\n",
       "      <td>3</td>\n",
       "      <td>A great passionate of crime stories is trapped...</td>\n",
       "      <td>NaN</td>\n",
       "      <td>0</td>\n",
       "      <td>0</td>\n",
       "      <td>0</td>\n",
       "      <td>0</td>\n",
       "      <td>0</td>\n",
       "    </tr>\n",
       "  </tbody>\n",
       "</table>\n",
       "<p>41399 rows × 19 columns</p>\n",
       "</div>"
      ],
      "text/plain": [
       "       filmtv_id                                        title  year  \\\n",
       "0              2  Bugs Bunny's Third Movie: 1001 Rabbit Tales  1982   \n",
       "1              3                    18 anni tra una settimana  1991   \n",
       "2             17                             Ride a Wild Pony  1976   \n",
       "3             18                                        Diner  1982   \n",
       "4             20              A che servono questi quattrini?  1942   \n",
       "...          ...                                          ...   ...   \n",
       "41394     232817                           Gold Digger Killer  2021   \n",
       "41395     232893                          Addio al nubilato 2  2023   \n",
       "41396     232915                                  Konferensen  2023   \n",
       "41397     232919                                    Ballelina  2023   \n",
       "41398     232920                    Invitación a un Asesinato  2023   \n",
       "\n",
       "           genre  duration                country  \\\n",
       "0      Animation        76          United States   \n",
       "1          Drama        98                  Italy   \n",
       "2       Romantic        91          United States   \n",
       "3         Comedy        95          United States   \n",
       "4         Comedy        85                  Italy   \n",
       "...          ...       ...                    ...   \n",
       "41394   Thriller        87  Canada, United States   \n",
       "41395     Comedy        90                  Italy   \n",
       "41396     Horror       100                 Sweden   \n",
       "41397   Thriller        92            South Korea   \n",
       "41398   Thriller        92                 Mexico   \n",
       "\n",
       "                                  directors  \\\n",
       "0      David Detiege, Art Davis, Bill Perez   \n",
       "1                             Luigi Perelli   \n",
       "2                               Don Chaffey   \n",
       "3                            Barry Levinson   \n",
       "4                            Esodo Pratelli   \n",
       "...                                     ...   \n",
       "41394                            Robin Hays   \n",
       "41395                    Francesco Apolloni   \n",
       "41396                         Patrik Eklund   \n",
       "41397                        Chung-Hyun Lee   \n",
       "41398                          J.M Cravioto   \n",
       "\n",
       "                                                  actors  avg_vote  \\\n",
       "0                                                    NaN       7.7   \n",
       "1      Kim Rossi Stuart, Simona Cavallari, Ennio Fant...       6.5   \n",
       "2      Michael Craig, John Meillon, Eva Griffith, Gra...       5.7   \n",
       "3      Mickey Rourke, Steve Guttenberg, Ellen Barkin,...       7.0   \n",
       "4      Eduardo De Filippo, Peppino De Filippo, Clelia...       5.9   \n",
       "...                                                  ...       ...   \n",
       "41394  Julie Benz, Roan Curtis, Georgia Bradner, Eli ...       4.0   \n",
       "41395  Laura Chiatti, Chiara Francini, Antonia Liskov...       2.7   \n",
       "41396  Katia Winter, Eva Melander, Lola Zackow, Adam ...       6.0   \n",
       "41397             Jeon Jong-seo, Park Yu-rim, Ji-hun Kim       5.8   \n",
       "41398  Maribel Verdú, Stephanie Cayo, Manolo Cardona,...       6.0   \n",
       "\n",
       "       critics_vote  public_vote  total_votes  \\\n",
       "0              8.00          7.0           22   \n",
       "1              6.00          7.0            4   \n",
       "2              6.00          5.0           10   \n",
       "3              8.00          6.0           18   \n",
       "4              5.33          7.0           15   \n",
       "...             ...          ...          ...   \n",
       "41394           NaN          4.0            3   \n",
       "41395           NaN          3.0            3   \n",
       "41396           NaN          6.0            6   \n",
       "41397           NaN          6.0            5   \n",
       "41398           NaN          6.0            3   \n",
       "\n",
       "                                             description  \\\n",
       "0      With two protruding front teeth, a slightly sl...   \n",
       "1      Samantha, not yet eighteen, leaves the comfort...   \n",
       "2      In the Australia of the pioneers, a boy and a ...   \n",
       "3      Five boys from Baltimore have a habit of meeti...   \n",
       "4      With a stratagem, the penniless and somewhat p...   \n",
       "...                                                  ...   \n",
       "41394  Celeste is an attractive waitress in the forti...   \n",
       "41395  When Eleonora is downloaded to the altar, her ...   \n",
       "41396  A team building conference organized for a gro...   \n",
       "41397  Once Ok-Ju worked as a bodyguard and was one o...   \n",
       "41398  A great passionate of crime stories is trapped...   \n",
       "\n",
       "                                                   notes  humor  rhythm  \\\n",
       "0      These are many small independent stories, whic...      3       3   \n",
       "1      Luigi Perelli, the director of the \"Piovra\", o...      0       2   \n",
       "2      \"Ecological\" story with a happy ending, not wi...      1       2   \n",
       "3      A cast of will be famous for Levinson's direct...      2       2   \n",
       "4      Taken from the play by Armando Curcio that the...      3       1   \n",
       "...                                                  ...    ...     ...   \n",
       "41394                    Freely taken from a true story.      0       0   \n",
       "41395                   Bachelorette fare sequel (2021).      0       0   \n",
       "41396                                                NaN      0       0   \n",
       "41397                                                NaN      0       0   \n",
       "41398                                                NaN      0       0   \n",
       "\n",
       "       effort  tension  erotism  \n",
       "0           0        0        0  \n",
       "1           0        2        0  \n",
       "2           1        0        0  \n",
       "3           0        1        2  \n",
       "4           1        0        0  \n",
       "...       ...      ...      ...  \n",
       "41394       0        0        0  \n",
       "41395       0        0        0  \n",
       "41396       0        0        0  \n",
       "41397       0        0        0  \n",
       "41398       0        0        0  \n",
       "\n",
       "[41399 rows x 19 columns]"
      ]
     },
     "execution_count": 43,
     "metadata": {},
     "output_type": "execute_result"
    }
   ],
   "source": [
    "import pandas as pd\n",
    "data=pd.read_csv('filmtv_movies.csv')\n",
    "data"
   ]
  },
  {
   "cell_type": "code",
   "execution_count": 2,
   "id": "af7b668f-7bf1-4f3f-9c51-f310a8d9ec62",
   "metadata": {},
   "outputs": [
    {
     "name": "stdout",
     "output_type": "stream",
     "text": [
      "duration    100.537163\n",
      "dtype: float64\n"
     ]
    }
   ],
   "source": [
    "# 1. What is the average duration of the movies in the dataset?\n",
    "import pandas as pd\n",
    "data=pd.read_csv('filmtv_movies.csv')\n",
    "agg=data.agg({\"duration\":\"mean\"})\n",
    "print(agg)"
   ]
  },
  {
   "cell_type": "code",
   "execution_count": 67,
   "id": "0fef74ff-4627-4583-bcc3-2a32e2b649fd",
   "metadata": {},
   "outputs": [
    {
     "name": "stdout",
     "output_type": "stream",
     "text": [
      "Kiss the Bride\n"
     ]
    }
   ],
   "source": [
    "# 2. Which movie has the highest average vote?\n",
    "highest_votes_movie = data.loc[data['avg_vote'].idxmax()]\n",
    "movie=highest_votes_movie[\"title\"]\n",
    "print(movie)"
   ]
  },
  {
   "cell_type": "code",
   "execution_count": 54,
   "id": "842ebbbc-a1d5-47ea-af7c-3dd4bb047af6",
   "metadata": {},
   "outputs": [
    {
     "name": "stdout",
     "output_type": "stream",
     "text": [
      "16490\n"
     ]
    }
   ],
   "source": [
    "# 3. How many movies are there from the United States?\n",
    "import numpy as np\n",
    "countries = np.array(data['country'])\n",
    "us_movies = countries[countries == 'United States']\n",
    "num_us_movies = len(us_movies)\n",
    "print(num_us_movies)"
   ]
  },
  {
   "cell_type": "code",
   "execution_count": 87,
   "id": "74199a9b-4d03-4acb-a983-b4bbd139bc51",
   "metadata": {},
   "outputs": [
    {
     "name": "stdout",
     "output_type": "stream",
     "text": [
      "The votes for \"18 anni tra una settimana\" are 4.\n"
     ]
    }
   ],
   "source": [
    "# 4. What is the total number of votes for the movie \"18 anni tra una settimana\"?\n",
    "\n",
    "movie_title = \"18 anni tra una settimana\"  \n",
    "filtered_movie = data[data[\"title\"] == movie_title]\n",
    "\n",
    "votes = filtered_movie['total_votes'].values[0] if not filtered_movie.empty else 'Movie not found'\n",
    "\n",
    "print(f'The votes for \"{movie_title}\" are {votes}.')"
   ]
  },
  {
   "cell_type": "code",
   "execution_count": 97,
   "id": "1b739b24-e2ba-4c52-99d5-1aeb50072a58",
   "metadata": {},
   "outputs": [
    {
     "name": "stdout",
     "output_type": "stream",
     "text": [
      "The movie with the highest votes is \"Regina\" with 10.0 critic votes.\n"
     ]
    }
   ],
   "source": [
    "#5. Which movie has the highest number of critics votes?\n",
    "highest_votes_movie = data.loc[data['critics_vote'].idxmax()]\n",
    "\n",
    "print(f'The movie with the highest votes is \"{highest_votes_movie[\"title\"]}\" with {highest_votes_movie[\"critics_vote\"]} critic votes.')\n"
   ]
  },
  {
   "cell_type": "code",
   "execution_count": 68,
   "id": "35d61a73-a6f6-4775-af87-4965049049fa",
   "metadata": {},
   "outputs": [
    {
     "name": "stdout",
     "output_type": "stream",
     "text": [
      "2    Romantic\n",
      "Name: genre, dtype: object\n"
     ]
    }
   ],
   "source": [
    "# 6. What is the genre of the movie \"Ride a Wild Pony\"?\n",
    "movie_title = \"Ride a Wild Pony\"  \n",
    "filtered_movie = data[data[\"title\"] == movie_title]\n",
    "genre=filtered_movie[\"genre\"]\n",
    "print(genre)"
   ]
  },
  {
   "cell_type": "code",
   "execution_count": 80,
   "id": "1008094e-b593-441e-97b8-6da73ff6a56a",
   "metadata": {},
   "outputs": [
    {
     "name": "stdout",
     "output_type": "stream",
     "text": [
      "0    David Detiege, Art Davis, Bill Perez\n",
      "Name: directors, dtype: object\n"
     ]
    }
   ],
   "source": [
    "# 7. How many directors worked on \"Bugs Bunny's Third Movie: 1001 Rabbit Tales\"?\n",
    "movie_title = \"Bugs Bunny's Third Movie: 1001 Rabbit Tales\"  \n",
    "filtered_movie = data[data[\"title\"] == movie_title]\n",
    "directors=filtered_movie[\"directors\"]\n",
    "print(directors)"
   ]
  },
  {
   "cell_type": "code",
   "execution_count": 81,
   "id": "13c86736-fe01-47fb-b225-647e960ea9fa",
   "metadata": {},
   "outputs": [
    {
     "name": "stdout",
     "output_type": "stream",
     "text": [
      "A Chump at Oxford\n"
     ]
    }
   ],
   "source": [
    "# 8. Which movie has the highest humor rating?\n",
    "highest_humor_movie = data.loc[data['humor'].idxmax()]\n",
    "movie=highest_humor_movie[\"title\"]\n",
    "print(movie)"
   ]
  },
  {
   "cell_type": "code",
   "execution_count": 82,
   "id": "445666f4-9cf1-48e8-b502-03602649c30b",
   "metadata": {},
   "outputs": [
    {
     "name": "stdout",
     "output_type": "stream",
     "text": [
      "rhythm    1.345347\n",
      "dtype: float64\n"
     ]
    }
   ],
   "source": [
    "# 9. What is the average rhythm rating of all movies?\n",
    "agg=data.agg({\"rhythm\":\"mean\"})\n",
    "print(agg)"
   ]
  },
  {
   "cell_type": "code",
   "execution_count": 84,
   "id": "86a6c676-38cb-4435-a06f-2e4f6177324e",
   "metadata": {},
   "outputs": [
    {
     "name": "stdout",
     "output_type": "stream",
     "text": [
      "Addio, Napoli!\n"
     ]
    }
   ],
   "source": [
    "# 10. Which movie has the lowest public vote?\n",
    "lowest_public_vote = data.loc[data['public_vote'].idxmin()]\n",
    "movie=lowest_public_vote[\"title\"]\n",
    "print(movie)"
   ]
  },
  {
   "cell_type": "code",
   "execution_count": 86,
   "id": "685ea245-3042-402e-a353-35f1968c0b05",
   "metadata": {},
   "outputs": [
    {
     "name": "stdout",
     "output_type": "stream",
     "text": [
      "3    1982\n",
      "Name: year, dtype: int64\n"
     ]
    }
   ],
   "source": [
    "# 11. What year was the movie \"Diner\" released?\n",
    "movie_title = \"Diner\"  \n",
    "filtered_movie = data[data[\"title\"] == movie_title]\n",
    "year=filtered_movie[\"year\"]\n",
    "print(year)"
   ]
  },
  {
   "cell_type": "code",
   "execution_count": 89,
   "id": "79d657ef-0904-42ef-ac87-68268a0f9d77",
   "metadata": {},
   "outputs": [
    {
     "name": "stdout",
     "output_type": "stream",
     "text": [
      "1    Italy\n",
      "Name: country, dtype: object\n"
     ]
    }
   ],
   "source": [
    "#12. Which country produced the movie \"18 anni tra una settimana\"?\n",
    "movie_title = \"18 anni tra una settimana\"  \n",
    "filtered_movie = data[data[\"title\"] == movie_title]\n",
    "country=filtered_movie[\"country\"]\n",
    "print(country)"
   ]
  },
  {
   "cell_type": "code",
   "execution_count": 90,
   "id": "3d476b79-c9fa-4650-aef9-f47863248dd5",
   "metadata": {},
   "outputs": [
    {
     "name": "stdout",
     "output_type": "stream",
     "text": [
      "12    2\n",
      "Name: erotism, dtype: int64\n"
     ]
    }
   ],
   "source": [
    "# 13. What is the erotism rating for the movie \"In Bed With Madonna\"?\n",
    "movie_title = \"In Bed With Madonna\"  \n",
    "filtered_movie = data[data[\"title\"] == movie_title]\n",
    "erotism_rating=filtered_movie[\"erotism\"]\n",
    "print(erotism_rating)"
   ]
  },
  {
   "cell_type": "code",
   "execution_count": 91,
   "id": "7ed4240c-79a4-4d1c-a310-71bc43f76328",
   "metadata": {},
   "outputs": [
    {
     "name": "stdout",
     "output_type": "stream",
     "text": [
      "tension    0.919153\n",
      "dtype: float64\n"
     ]
    }
   ],
   "source": [
    "#14. What is the average tension rating of all movies?\n",
    "agg=data.agg({\"tension\":\"mean\"})\n",
    "print(agg)"
   ]
  },
  {
   "cell_type": "code",
   "execution_count": 92,
   "id": "41700e8a-7faa-4dd6-9bf7-33435929bf11",
   "metadata": {},
   "outputs": [
    {
     "name": "stdout",
     "output_type": "stream",
     "text": [
      "Die Zweite Heimat - Chronik einer Jugend\n"
     ]
    }
   ],
   "source": [
    "#15. Which movie has the longest duration?\n",
    "long_duration_movie = data.loc[data['duration'].idxmax()]\n",
    "movie=long_duration_movie[\"title\"]\n",
    "print(movie)"
   ]
  },
  {
   "cell_type": "code",
   "execution_count": 93,
   "id": "884d6519-3e9d-4bd8-9695-047039ff5679",
   "metadata": {},
   "outputs": [
    {
     "name": "stdout",
     "output_type": "stream",
     "text": [
      "2    Don Chaffey\n",
      "Name: directors, dtype: object\n"
     ]
    }
   ],
   "source": [
    "# 16. Who is the director of \"Ride a Wild Pony\"?\n",
    "movie_title = \"Ride a Wild Pony\" \n",
    "filtered_movie = data[data[\"title\"] == movie_title]\n",
    "directors=filtered_movie[\"directors\"]\n",
    "print(directors)"
   ]
  },
  {
   "cell_type": "code",
   "execution_count": 94,
   "id": "9a743692-e01f-4987-bfb4-207d396fdff1",
   "metadata": {},
   "outputs": [
    {
     "name": "stdout",
     "output_type": "stream",
     "text": [
      "The votes for \"Ride a Wild Pony\" are 10.\n"
     ]
    }
   ],
   "source": [
    "# 17. What is the total number of votes for \"Ride a Wild Pony\"?\n",
    "movie_title = \"Ride a Wild Pony\"  \n",
    "filtered_movie = data[data[\"title\"] == movie_title]\n",
    "\n",
    "votes = filtered_movie['total_votes'].values[0] if not filtered_movie.empty else 'Movie not found'\n",
    "\n",
    "print(f'The votes for \"{movie_title}\" are {votes}.')"
   ]
  },
  {
   "cell_type": "code",
   "execution_count": 96,
   "id": "4f79724d-0546-4ee7-b6a6-08e900aff6d9",
   "metadata": {},
   "outputs": [
    {
     "name": "stdout",
     "output_type": "stream",
     "text": [
      "15    Charles Bronson, Linda Cristal, Al Lettieri, L...\n",
      "Name: actors, dtype: object\n"
     ]
    }
   ],
   "source": [
    "# 18. How many actors are listed for \"Mr. Majestyk\"?\n",
    "movie_title = \"Mr. Majestyk\" \n",
    "filtered_movie = data[data[\"title\"] == movie_title]\n",
    "actors=filtered_movie[\"actors\"]\n",
    "print(actors)"
   ]
  },
  {
   "cell_type": "code",
   "execution_count": 99,
   "id": "7a7f4a71-355c-48ce-94d7-02f54e4290bc",
   "metadata": {},
   "outputs": [
    {
     "name": "stdout",
     "output_type": "stream",
     "text": [
      "The movie with the highest votes is \"Pulp Fiction\" with 1082 votes.\n"
     ]
    }
   ],
   "source": [
    "# 19. Which movie has the highest total vote count?\n",
    "highest_votes_movie = data.loc[data['total_votes'].idxmax()]\n",
    "\n",
    "print(f'The movie with the highest votes is \"{highest_votes_movie[\"title\"]}\" with {highest_votes_movie[\"total_votes\"]} votes.')\n"
   ]
  },
  {
   "cell_type": "code",
   "execution_count": 100,
   "id": "d621fc7f-f8b1-40e3-a7f8-ad7efa25ab51",
   "metadata": {},
   "outputs": [
    {
     "name": "stdout",
     "output_type": "stream",
     "text": [
      "2    2\n",
      "Name: rhythm, dtype: int64\n"
     ]
    }
   ],
   "source": [
    "# 20. What is the rhythm rating for the movie \"Ride a Wild Pony\"?\n",
    "movie_title = \"Ride a Wild Pony\"  \n",
    "filtered_movie = data[data[\"title\"] == movie_title]\n",
    "rhythm_rating=filtered_movie[\"rhythm\"]\n",
    "print(rhythm_rating)"
   ]
  },
  {
   "cell_type": "code",
   "execution_count": 102,
   "id": "d6d853b0-3ddf-4c90-b3d2-568d14225e46",
   "metadata": {},
   "outputs": [
    {
     "name": "stdout",
     "output_type": "stream",
     "text": [
      "Series([], Name: genre, dtype: object)\n"
     ]
    }
   ],
   "source": [
    "# 22. What is the genre of \"ArrÃªt sur image\"?\n",
    "movie_title = \"ArrÃªt sur image\"  \n",
    "filtered_movie = data[data[\"title\"] == movie_title]\n",
    "genre=filtered_movie[\"genre\"]\n",
    "print(genre)"
   ]
  },
  {
   "cell_type": "code",
   "execution_count": 105,
   "id": "7e1aed00-20bf-4e35-bbc9-f7bb49c8e7df",
   "metadata": {},
   "outputs": [
    {
     "name": "stdout",
     "output_type": "stream",
     "text": [
      "There are 31988 movies with a erotism rating of 0.\n"
     ]
    }
   ],
   "source": [
    "# 23. How many movies have an erotism rating of 0?\n",
    "erotism_rating_zero = data[data['erotism'] == 0]\n",
    "\n",
    "# Count the number of movies with a humor rating of 0\n",
    "num_erotism_rating_zero = erotism_rating_zero.shape[0]\n",
    "\n",
    "print(f'There are {num_erotism_rating_zero} movies with a erotism rating of 0.')\n"
   ]
  },
  {
   "cell_type": "code",
   "execution_count": 106,
   "id": "9d411c79-25d4-4c87-bcc5-1963c37a7609",
   "metadata": {},
   "outputs": [
    {
     "name": "stdout",
     "output_type": "stream",
     "text": [
      "public_vote    5.924135\n",
      "dtype: float64\n"
     ]
    }
   ],
   "source": [
    "# 24. What is the average public vote of all movies?\n",
    "agg=data.agg({\"public_vote\":\"mean\"})\n",
    "print(agg)"
   ]
  },
  {
   "cell_type": "code",
   "execution_count": 108,
   "id": "a2fea08f-343c-44fa-abe0-94f2d18ddb89",
   "metadata": {},
   "outputs": [
    {
     "name": "stdout",
     "output_type": "stream",
     "text": [
      "There are 0 movies with description mentioning Warner cartoons\n"
     ]
    }
   ],
   "source": [
    "#25. Which movie's description mentions Warner cartoons?\n",
    "des = data[data['description'] == \"Warner cartoons\"]\n",
    "\n",
    "# Count the number of movies with a humor rating of 0\n",
    "num = des.shape[0]\n",
    "\n",
    "print(f'There are {num_erotism_rating_zero} movies with description mentioning Warner cartoons')"
   ]
  },
  {
   "cell_type": "code",
   "execution_count": 110,
   "id": "1cd70e81-48dc-4ef5-82d4-85c26f723eb4",
   "metadata": {},
   "outputs": [
    {
     "name": "stdout",
     "output_type": "stream",
     "text": [
      "Defaulting to user installation because normal site-packages is not writeable\n",
      "Collecting matplotlib\n",
      "  Downloading matplotlib-3.9.1.post1-cp312-cp312-win_amd64.whl.metadata (11 kB)\n",
      "Collecting contourpy>=1.0.1 (from matplotlib)\n",
      "  Downloading contourpy-1.2.1-cp312-cp312-win_amd64.whl.metadata (5.8 kB)\n",
      "Collecting cycler>=0.10 (from matplotlib)\n",
      "  Downloading cycler-0.12.1-py3-none-any.whl.metadata (3.8 kB)\n",
      "Collecting fonttools>=4.22.0 (from matplotlib)\n",
      "  Downloading fonttools-4.53.1-cp312-cp312-win_amd64.whl.metadata (165 kB)\n",
      "Collecting kiwisolver>=1.3.1 (from matplotlib)\n",
      "  Downloading kiwisolver-1.4.5-cp312-cp312-win_amd64.whl.metadata (6.5 kB)\n",
      "Requirement already satisfied: numpy>=1.23 in c:\\users\\hp\\appdata\\roaming\\python\\python312\\site-packages (from matplotlib) (2.0.1)\n",
      "Requirement already satisfied: packaging>=20.0 in c:\\users\\hp\\appdata\\roaming\\python\\python312\\site-packages (from matplotlib) (24.1)\n",
      "Collecting pillow>=8 (from matplotlib)\n",
      "  Downloading pillow-10.4.0-cp312-cp312-win_amd64.whl.metadata (9.3 kB)\n",
      "Collecting pyparsing>=2.3.1 (from matplotlib)\n",
      "  Downloading pyparsing-3.1.2-py3-none-any.whl.metadata (5.1 kB)\n",
      "Requirement already satisfied: python-dateutil>=2.7 in c:\\users\\hp\\appdata\\roaming\\python\\python312\\site-packages (from matplotlib) (2.9.0.post0)\n",
      "Requirement already satisfied: six>=1.5 in c:\\users\\hp\\appdata\\roaming\\python\\python312\\site-packages (from python-dateutil>=2.7->matplotlib) (1.16.0)\n",
      "Downloading matplotlib-3.9.1.post1-cp312-cp312-win_amd64.whl (8.0 MB)\n",
      "   ---------------------------------------- 0.0/8.0 MB ? eta -:--:--\n",
      "   -- ------------------------------------- 0.5/8.0 MB 2.8 MB/s eta 0:00:03\n",
      "   ----- ---------------------------------- 1.0/8.0 MB 2.8 MB/s eta 0:00:03\n",
      "   --------- ------------------------------ 1.8/8.0 MB 3.0 MB/s eta 0:00:03\n",
      "   ------------- -------------------------- 2.6/8.0 MB 3.2 MB/s eta 0:00:02\n",
      "   ----------------- ---------------------- 3.4/8.0 MB 3.6 MB/s eta 0:00:02\n",
      "   ------------------ --------------------- 3.7/8.0 MB 3.2 MB/s eta 0:00:02\n",
      "   ------------------- -------------------- 3.9/8.0 MB 2.8 MB/s eta 0:00:02\n",
      "   ---------------------- ----------------- 4.5/8.0 MB 2.7 MB/s eta 0:00:02\n",
      "   ----------------------- ---------------- 4.7/8.0 MB 2.7 MB/s eta 0:00:02\n",
      "   -------------------------- ------------- 5.2/8.0 MB 2.5 MB/s eta 0:00:02\n",
      "   ---------------------------- ----------- 5.8/8.0 MB 2.6 MB/s eta 0:00:01\n",
      "   ------------------------------- -------- 6.3/8.0 MB 2.6 MB/s eta 0:00:01\n",
      "   ----------------------------------- ---- 7.1/8.0 MB 2.7 MB/s eta 0:00:01\n",
      "   ---------------------------------------- 8.0/8.0 MB 2.8 MB/s eta 0:00:00\n",
      "Downloading contourpy-1.2.1-cp312-cp312-win_amd64.whl (189 kB)\n",
      "Downloading cycler-0.12.1-py3-none-any.whl (8.3 kB)\n",
      "Downloading fonttools-4.53.1-cp312-cp312-win_amd64.whl (2.2 MB)\n",
      "   ---------------------------------------- 0.0/2.2 MB ? eta -:--:--\n",
      "   -------------- ------------------------- 0.8/2.2 MB 11.2 MB/s eta 0:00:01\n",
      "   ---------------------------- ----------- 1.6/2.2 MB 4.7 MB/s eta 0:00:01\n",
      "   --------------------------------- ------ 1.8/2.2 MB 4.8 MB/s eta 0:00:01\n",
      "   -------------------------------------- - 2.1/2.2 MB 2.7 MB/s eta 0:00:01\n",
      "   ---------------------------------------- 2.2/2.2 MB 2.6 MB/s eta 0:00:00\n",
      "Downloading kiwisolver-1.4.5-cp312-cp312-win_amd64.whl (56 kB)\n",
      "Downloading pillow-10.4.0-cp312-cp312-win_amd64.whl (2.6 MB)\n",
      "   ---------------------------------------- 0.0/2.6 MB ? eta -:--:--\n",
      "   ---- ----------------------------------- 0.3/2.6 MB ? eta -:--:--\n",
      "   ------------ --------------------------- 0.8/2.6 MB 2.6 MB/s eta 0:00:01\n",
      "   -------------------- ------------------- 1.3/2.6 MB 2.5 MB/s eta 0:00:01\n",
      "   ------------------------ --------------- 1.6/2.6 MB 2.0 MB/s eta 0:00:01\n",
      "   ------------------------ --------------- 1.6/2.6 MB 2.0 MB/s eta 0:00:01\n",
      "   -------------------------------- ------- 2.1/2.6 MB 1.6 MB/s eta 0:00:01\n",
      "   ---------------------------------------- 2.6/2.6 MB 1.7 MB/s eta 0:00:00\n",
      "Downloading pyparsing-3.1.2-py3-none-any.whl (103 kB)\n",
      "Installing collected packages: pyparsing, pillow, kiwisolver, fonttools, cycler, contourpy, matplotlib\n",
      "Successfully installed contourpy-1.2.1 cycler-0.12.1 fonttools-4.53.1 kiwisolver-1.4.5 matplotlib-3.9.1.post1 pillow-10.4.0 pyparsing-3.1.2\n"
     ]
    }
   ],
   "source": [
    "!pip install matplotlib"
   ]
  },
  {
   "cell_type": "code",
   "execution_count": 7,
   "id": "fc7e2926-e743-48a2-85f4-0727c26e0dd8",
   "metadata": {},
   "outputs": [
    {
     "data": {
      "image/png": "[encoded data removed]",
      "text/plain": [
       "<Figure size 1000x600 with 1 Axes>"
      ]
     },
     "metadata": {},
     "output_type": "display_data"
    }
   ],
   "source": [
    "#26. Plot a bar graph between the year and the number of movies released in that year\n",
    "import pandas as pd\n",
    "import matplotlib.pyplot as plt\n",
    "grouped=data.groupby(\"year\").size()\n",
    "# Plot the graph\n",
    "plt.figure(figsize=(10, 6))\n",
    "grouped.plot(kind='bar')\n",
    "plt.title('Number of Movies Released Each Year')\n",
    "plt.xlabel('year')\n",
    "plt.ylabel('Number of Movies')\n",
    "plt.show()"
   ]
  },
  {
   "cell_type": "code",
   "execution_count": null,
   "id": "2f85c72b-e13a-42cd-8e75-bfd5ce69640b",
   "metadata": {},
   "outputs": [],
   "source": []
  }
 ],
 "metadata": {
  "kernelspec": {
   "display_name": "Python 3 (ipykernel)",
   "language": "python",
   "name": "python3"
  },
  "language_info": {
   "codemirror_mode": {
    "name": "ipython",
    "version": 3
   },
   "file_extension": ".py",
   "mimetype": "text/x-python",
   "name": "python",
   "nbconvert_exporter": "python",
   "pygments_lexer": "ipython3",
   "version": "3.12.4"
  }
 },
 "nbformat": 4,
 "nbformat_minor": 5
}
